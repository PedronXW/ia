{
 "cells": [
  {
   "cell_type": "code",
   "execution_count": 2,
   "id": "c5505d52",
   "metadata": {},
   "outputs": [],
   "source": [
    "import pandas as pd"
   ]
  },
  {
   "cell_type": "code",
   "execution_count": 3,
   "id": "96d98c42",
   "metadata": {},
   "outputs": [
    {
     "data": {
      "text/plain": [
       "'2.3.0'"
      ]
     },
     "execution_count": 3,
     "metadata": {},
     "output_type": "execute_result"
    }
   ],
   "source": [
    "pd.__version__"
   ]
  },
  {
   "cell_type": "code",
   "execution_count": 4,
   "id": "a402b46b",
   "metadata": {},
   "outputs": [],
   "source": [
    "dict_medidas = {\"idade\": [18, 25, 30, 45, 60],\n",
    "                \"altura\": [1.70, 1.75, 1.80, 1.65, 1.90],\n",
    "                \"peso\": [70, 80, 90, 60, 100],\n",
    "                \"sexo\": [\"M\", \"F\", \"M\", \"F\", \"M\"]}"
   ]
  },
  {
   "cell_type": "code",
   "execution_count": 5,
   "id": "df847957",
   "metadata": {},
   "outputs": [],
   "source": [
    "df = pd.DataFrame.from_dict(dict_medidas)"
   ]
  },
  {
   "cell_type": "code",
   "execution_count": 6,
   "id": "fa4e44a2",
   "metadata": {},
   "outputs": [
    {
     "data": {
      "text/html": [
       "<div>\n",
       "<style scoped>\n",
       "    .dataframe tbody tr th:only-of-type {\n",
       "        vertical-align: middle;\n",
       "    }\n",
       "\n",
       "    .dataframe tbody tr th {\n",
       "        vertical-align: top;\n",
       "    }\n",
       "\n",
       "    .dataframe thead th {\n",
       "        text-align: right;\n",
       "    }\n",
       "</style>\n",
       "<table border=\"1\" class=\"dataframe\">\n",
       "  <thead>\n",
       "    <tr style=\"text-align: right;\">\n",
       "      <th></th>\n",
       "      <th>idade</th>\n",
       "      <th>altura</th>\n",
       "      <th>peso</th>\n",
       "      <th>sexo</th>\n",
       "    </tr>\n",
       "  </thead>\n",
       "  <tbody>\n",
       "    <tr>\n",
       "      <th>0</th>\n",
       "      <td>18</td>\n",
       "      <td>1.70</td>\n",
       "      <td>70</td>\n",
       "      <td>M</td>\n",
       "    </tr>\n",
       "    <tr>\n",
       "      <th>1</th>\n",
       "      <td>25</td>\n",
       "      <td>1.75</td>\n",
       "      <td>80</td>\n",
       "      <td>F</td>\n",
       "    </tr>\n",
       "    <tr>\n",
       "      <th>2</th>\n",
       "      <td>30</td>\n",
       "      <td>1.80</td>\n",
       "      <td>90</td>\n",
       "      <td>M</td>\n",
       "    </tr>\n",
       "    <tr>\n",
       "      <th>3</th>\n",
       "      <td>45</td>\n",
       "      <td>1.65</td>\n",
       "      <td>60</td>\n",
       "      <td>F</td>\n",
       "    </tr>\n",
       "    <tr>\n",
       "      <th>4</th>\n",
       "      <td>60</td>\n",
       "      <td>1.90</td>\n",
       "      <td>100</td>\n",
       "      <td>M</td>\n",
       "    </tr>\n",
       "  </tbody>\n",
       "</table>\n",
       "</div>"
      ],
      "text/plain": [
       "   idade  altura  peso sexo\n",
       "0     18    1.70    70    M\n",
       "1     25    1.75    80    F\n",
       "2     30    1.80    90    M\n",
       "3     45    1.65    60    F\n",
       "4     60    1.90   100    M"
      ]
     },
     "execution_count": 6,
     "metadata": {},
     "output_type": "execute_result"
    }
   ],
   "source": [
    "df"
   ]
  },
  {
   "cell_type": "code",
   "execution_count": 7,
   "id": "01622b2e",
   "metadata": {},
   "outputs": [
    {
     "data": {
      "text/plain": [
       "np.float64(35.6)"
      ]
     },
     "execution_count": 7,
     "metadata": {},
     "output_type": "execute_result"
    }
   ],
   "source": [
    "# Calculando a média da coluna \"idade\"\n",
    "df[\"idade\"].mean()"
   ]
  },
  {
   "cell_type": "code",
   "execution_count": 8,
   "id": "c8427ee8",
   "metadata": {},
   "outputs": [
    {
     "data": {
      "text/plain": [
       "np.float64(30.0)"
      ]
     },
     "execution_count": 8,
     "metadata": {},
     "output_type": "execute_result"
    }
   ],
   "source": [
    "# Calculando a mediana da coluna \"idade\"\n",
    "df[\"idade\"].median()"
   ]
  },
  {
   "cell_type": "code",
   "execution_count": 9,
   "id": "6daabf3d",
   "metadata": {},
   "outputs": [
    {
     "data": {
      "text/plain": [
       "0    18\n",
       "1    25\n",
       "2    30\n",
       "3    45\n",
       "4    60\n",
       "Name: idade, dtype: int64"
      ]
     },
     "execution_count": 9,
     "metadata": {},
     "output_type": "execute_result"
    }
   ],
   "source": [
    "# Calculando a moda da coluna \"idade\"\n",
    "df[\"idade\"].mode()"
   ]
  },
  {
   "cell_type": "code",
   "execution_count": 10,
   "id": "490d0c99",
   "metadata": {},
   "outputs": [
    {
     "data": {
      "text/plain": [
       "np.float64(284.29999999999995)"
      ]
     },
     "execution_count": 10,
     "metadata": {},
     "output_type": "execute_result"
    }
   ],
   "source": [
    "# Calculando a variância da coluna \"idade\"\n",
    "df[\"idade\"].var()"
   ]
  },
  {
   "cell_type": "code",
   "execution_count": 11,
   "id": "82f81b3e",
   "metadata": {},
   "outputs": [
    {
     "data": {
      "text/plain": [
       "np.float64(16.861198059449986)"
      ]
     },
     "execution_count": 11,
     "metadata": {},
     "output_type": "execute_result"
    }
   ],
   "source": [
    "# Calculando o desvio padrão da coluna \"idade\"\n",
    "df[\"idade\"].std()"
   ]
  },
  {
   "cell_type": "code",
   "execution_count": 12,
   "id": "4d1d4b3e",
   "metadata": {},
   "outputs": [
    {
     "data": {
      "text/plain": [
       "np.float64(47.36291589733142)"
      ]
     },
     "execution_count": 12,
     "metadata": {},
     "output_type": "execute_result"
    }
   ],
   "source": [
    "# Calculando o coeficiente de variação da coluna \"idade\"\n",
    "df[\"idade\"].std() / df[\"idade\"].mean() * 100"
   ]
  },
  {
   "cell_type": "code",
   "execution_count": 13,
   "id": "ec0c7fcb",
   "metadata": {},
   "outputs": [
    {
     "data": {
      "text/plain": [
       "np.float64(0.7422128138400799)"
      ]
     },
     "execution_count": 13,
     "metadata": {},
     "output_type": "execute_result"
    }
   ],
   "source": [
    "# Calculando assimetria da coluna \"idade\"\n",
    "# Quando o valor é positivo, a distribuição é assimétrica à direita, ou seja, os valores estão mais concentrados à esquerda, tem mais valores menores que a média\n",
    "# Quando o valor é negativo, a distribuição é assimétrica à esquerda, ou seja, os valores estão mais concentrados à direita, tem mais valores maiores que a média\n",
    "df[\"idade\"].skew()"
   ]
  },
  {
   "cell_type": "code",
   "execution_count": 14,
   "id": "a9ad309d",
   "metadata": {},
   "outputs": [
    {
     "data": {
      "text/plain": [
       "np.float64(-0.7031890163732202)"
      ]
     },
     "execution_count": 14,
     "metadata": {},
     "output_type": "execute_result"
    }
   ],
   "source": [
    "# Calculando a curtose da coluna \"idade\"\n",
    "# Quando o valor é positivo, a distribuição é leptocúrtica, ou seja, os valores estão mais concentrados em torno da média, tem mais valores próximos da média\n",
    "# Quando o valor é negativo, a distribuição é platicúrtica, ou seja, os valores estão mais dispersos, tem menos valores próximos da média\n",
    "df[\"idade\"].kurtosis()"
   ]
  },
  {
   "cell_type": "code",
   "execution_count": 15,
   "id": "90ab81d8",
   "metadata": {},
   "outputs": [
    {
     "data": {
      "text/plain": [
       "count     5.000000\n",
       "mean     35.600000\n",
       "std      16.861198\n",
       "min      18.000000\n",
       "25%      25.000000\n",
       "50%      30.000000\n",
       "75%      45.000000\n",
       "max      60.000000\n",
       "Name: idade, dtype: float64"
      ]
     },
     "execution_count": 15,
     "metadata": {},
     "output_type": "execute_result"
    }
   ],
   "source": [
    "# Descrição estatística da coluna \"idade\"\n",
    "df.idade.describe()"
   ]
  },
  {
   "cell_type": "code",
   "execution_count": null,
   "id": "46549e43",
   "metadata": {},
   "outputs": [
    {
     "data": {
      "text/plain": [
       "np.float64(0.511821819249071)"
      ]
     },
     "execution_count": 17,
     "metadata": {},
     "output_type": "execute_result"
    }
   ],
   "source": [
    "# Correlação entre as colunas \"idade\" e \"altura\", usando o método de Pearson, que é o padrão\n",
    "# O valor varia de -1 a 1, onde -1 indica uma correlação negativa\n",
    "# e 1 indica uma correlação positiva. Valores próximos de 0 indicam pouca ou nenhuma correlação\n",
    "df.idade.corr(df.altura, method='pearson')"
   ]
  },
  {
   "cell_type": "code",
   "execution_count": null,
   "id": "43111049",
   "metadata": {},
   "outputs": [],
   "source": []
  }
 ],
 "metadata": {
  "kernelspec": {
   "display_name": "statistic-oTwsSk-H",
   "language": "python",
   "name": "python3"
  },
  "language_info": {
   "codemirror_mode": {
    "name": "ipython",
    "version": 3
   },
   "file_extension": ".py",
   "mimetype": "text/x-python",
   "name": "python",
   "nbconvert_exporter": "python",
   "pygments_lexer": "ipython3",
   "version": "3.11.0"
  }
 },
 "nbformat": 4,
 "nbformat_minor": 5
}
